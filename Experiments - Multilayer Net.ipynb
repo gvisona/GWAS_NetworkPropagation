{
 "cells": [
  {
   "cell_type": "code",
   "execution_count": null,
   "id": "f20f6896-b83d-42de-8b56-b14551d44565",
   "metadata": {},
   "outputs": [],
   "source": [
    "import pandas as pd\n",
    "import numpy as np\n",
    "from tqdm.notebook import tqdm\n",
    "from rwr_functions import *\n",
    "from constants import *\n",
    "\n",
    "from sknetwork.data import from_edge_list\n",
    "from networkx import pagerank, from_pandas_edgelist\n"
   ]
  },
  {
   "cell_type": "markdown",
   "id": "6f93c1bd-2012-467a-abbf-a5e1e916d43b",
   "metadata": {},
   "source": [
    "# Create supra-adjacency matrix"
   ]
  },
  {
   "cell_type": "code",
   "execution_count": null,
   "id": "35eb12bf-fb8c-49a7-b564-db237c09cbdb",
   "metadata": {},
   "outputs": [],
   "source": [
    "def load_multilayer_graph(selected_networks):\n",
    "    gene_nets = {}\n",
    "\n",
    "    # Intranetwork edges\n",
    "    intra_edges = pd.DataFrame()\n",
    "    for net in selected_networks:\n",
    "        print(\"Loading {} graph\".format(net))\n",
    "        df = pd.read_csv(network_files[net], dtype={'node1': str, 'node2': str})[[\"node1\", \"node2\"]].astype(str)    \n",
    "        graph_nodes = set(df[\"node1\"]).union(set(df[\"node2\"]))\n",
    "        for nd in graph_nodes:\n",
    "            if nd in gene_nets.keys():\n",
    "                gene_nets[nd].append(net)\n",
    "            else:\n",
    "                gene_nets[nd] = [net]\n",
    "\n",
    "        df[\"node1\"] = net+\"_\"+df[\"node1\"]\n",
    "        df[\"node2\"] = net+\"_\"+df[\"node2\"]\n",
    "        intra_edges = pd.concat((intra_edges, df))\n",
    "\n",
    "    # Find inter-network edges\n",
    "    inter_edges = []\n",
    "    tot_multigraph_genes = 0\n",
    "    for gn, nn in gene_nets.items():\n",
    "        if len(nn)<2:\n",
    "            continue\n",
    "        tot_multigraph_genes += 1\n",
    "        for i in range(0, len(nn)-1):\n",
    "            for j in range(i+1, len(nn)):\n",
    "                inter_edges.append((nn[i]+\"_\"+gn, nn[j]+\"_\"+gn))\n",
    "    inter_edges = pd.DataFrame(inter_edges, columns=[\"node1\", \"node2\"])\n",
    "\n",
    "    # Complete Supra-matrix\n",
    "    supadj_edges = pd.concat((intra_edges, inter_edges))\n",
    "    \n",
    "    \n",
    "    # graph = from_edge_list(supadj_edges.values.astype(str))\n",
    "    graph = from_pandas_edgelist(supadj_edges, source=\"node1\", target=\"node2\")\n",
    "    return graph\n",
    "\n",
    "\n",
    "def init_multilayer_scores(graph, data):\n",
    "    ncbi2gene = dict(zip(data.NCBI_id, data.Gene))\n",
    "    ncbi_genes = set(data.NCBI_id)\n",
    "    pegasus_scores = dict(zip(data.NCBI_id, data.Score))\n",
    "    pagerank_seeds = {}\n",
    "    for node in graph.nodes: \n",
    "        node_gene = node.split(\"_\", 1)[-1]\n",
    "        if node_gene in ncbi_genes:\n",
    "            pagerank_seeds[node] = pegasus_scores[node_gene]\n",
    "        else:\n",
    "            pagerank_seeds[node] = 0.0\n",
    "    return pagerank_seeds\n"
   ]
  },
  {
   "cell_type": "code",
   "execution_count": null,
   "id": "79defd1a-94b3-4df6-b25e-44ca7d3652d5",
   "metadata": {},
   "outputs": [],
   "source": [
    "graph = load_multilayer_graph(NETWORKS)"
   ]
  },
  {
   "cell_type": "code",
   "execution_count": null,
   "id": "69d70649-6ea3-4ec4-ad3f-77b8b9d25102",
   "metadata": {},
   "outputs": [],
   "source": [
    "results = []\n",
    "\n",
    "for disease in tqdm(DISEASES):\n",
    "    pegasus_data = load_pegasus_results(disease)\n",
    "    pagerank_seeds = init_multilayer_scores(graph, pegasus_data)\n",
    "    gene_seeds_ncbi, ncbi_targets = load_seeds_and_targets(disease)\n",
    "    ncbi_targets = list(set(ncbi_targets))\n",
    "    for alpha in tqdm(ALPHAS):\n",
    "        rwr_scores = perform_rwr_nx(alpha, graph, pagerank_seeds)\n",
    "        rwr_results = process_rwr_results_nx(rwr_scores, graph, pegasus_data, pagerank_seeds) \n",
    "        rwr_results[[\"Network\", \"Gene NCBI ID\"]] = rwr_results[\"Gene NCBI ID\"].str.split(\"_\", n=1, expand=True)\n",
    "        rwr_results = rwr_results.drop_duplicates(\"Gene NCBI ID\", keep=\"first\")\n",
    "        for K in Ks:\n",
    "            metrics = calculate_metrics(rwr_results, K, gene_seeds_ncbi, ncbi_targets, \"Multilayer\", alpha, disease, scoring=\"Score\")\n",
    "            results.append(metrics)\n",
    "                \n",
    "results = pd.concat(results)\n",
    "results"
   ]
  },
  {
   "cell_type": "code",
   "execution_count": null,
   "id": "cf2725a0-eac3-493c-9b69-039cac152a12",
   "metadata": {},
   "outputs": [],
   "source": [
    "os.makedirs(\"outputs\", exist_ok=True)\n",
    "results.to_csv(\"outputs/multilayer_metrics.csv\", index=False)"
   ]
  },
  {
   "cell_type": "code",
   "execution_count": null,
   "id": "858db16b-a39c-48b2-ab65-3ce7d47af944",
   "metadata": {},
   "outputs": [],
   "source": []
  }
 ],
 "metadata": {
  "kernelspec": {
   "display_name": "Python 3 (ipykernel)",
   "language": "python",
   "name": "python3"
  },
  "language_info": {
   "codemirror_mode": {
    "name": "ipython",
    "version": 3
   },
   "file_extension": ".py",
   "mimetype": "text/x-python",
   "name": "python",
   "nbconvert_exporter": "python",
   "pygments_lexer": "ipython3",
   "version": "3.10.0"
  }
 },
 "nbformat": 4,
 "nbformat_minor": 5
}
