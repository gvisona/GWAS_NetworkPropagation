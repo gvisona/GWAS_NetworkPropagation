{
 "cells": [
  {
   "cell_type": "code",
   "execution_count": null,
   "id": "626d5d68-b330-44b6-ae85-8a3211c5ea21",
   "metadata": {},
   "outputs": [],
   "source": [
    "import pandas as pd\n",
    "import numpy as np\n",
    "from tqdm.notebook import tqdm\n",
    "from rwr_functions import *\n",
    "from constants import *\n",
    "import json\n",
    "import os\n",
    "from sknetwork.data import from_edge_list"
   ]
  },
  {
   "cell_type": "code",
   "execution_count": null,
   "id": "e1515a72-c67d-4567-ade6-3f707c42f4b8",
   "metadata": {},
   "outputs": [],
   "source": [
    "with open(\"processed_data/networks/networks_n_edges.json\", \"r\") as f:\n",
    "    networks_n_edges = json.load(f)\n",
    "with open(\"processed_data/networks/networks_n_nodes.json\", \"r\") as f:\n",
    "    networks_n_nodes = json.load(f)\n",
    "    \n",
    "networks_n_nodes"
   ]
  },
  {
   "cell_type": "code",
   "execution_count": null,
   "id": "b02adfb0-c572-4127-a4c8-f49dbe5a796d",
   "metadata": {},
   "outputs": [],
   "source": [
    "results = []\n",
    "\n",
    "for disease in tqdm(DISEASES):\n",
    "    pegasus_data = load_pegasus_results(disease)\n",
    "    gene_seeds_ncbi, ncbi_targets = load_seeds_and_targets(disease)\n",
    "    \n",
    "    ncbi_targets = list(set(ncbi_targets))\n",
    "\n",
    "    for alpha in tqdm(ALPHAS):\n",
    "        genes_ranks = {}\n",
    "        genes_scores = {}\n",
    "        for netname in NETWORKS:\n",
    "            graph = load_graph_nx(netname)\n",
    "            pagerank_seeds = init_rwr_scores_nx(graph, pegasus_data)\n",
    "            rwr_scores = perform_rwr_nx(alpha, graph, pagerank_seeds)\n",
    "            rwr_results = process_rwr_results_nx(rwr_scores, graph, pegasus_data, pagerank_seeds) \n",
    "            rank = 0\n",
    "            \n",
    "            score_norm = np.sum(list(pagerank_seeds.values())) * 0.01\n",
    "            n_nodes = networks_n_nodes[netname]\n",
    "            for i, row in rwr_results.iterrows():\n",
    "                gn = str(row[\"Gene NCBI ID\"])\n",
    "                rank += 1\n",
    "                if gn not in genes_ranks:\n",
    "                    genes_ranks[gn] = [rank/n_nodes]\n",
    "                else:\n",
    "                    genes_ranks[gn].append(rank/n_nodes)\n",
    "\n",
    "\n",
    "                if gn not in genes_scores:\n",
    "                    genes_scores[gn] = [row[\"Final Score\"]/score_norm]\n",
    "                else:\n",
    "                    genes_scores[gn].append(row[\"Final Score\"]/score_norm)\n",
    "                    \n",
    "\n",
    "        genes_ranks_df = []\n",
    "        for k, v in genes_ranks.items():\n",
    "            if len(v)<2:\n",
    "                continue\n",
    "            genes_ranks_df.append({\"Gene NCBI ID\": k, \"Avg. Rank\": np.mean(v), \"Method\": \"Score\", \"Disease\": disease, \"Alpha\": alpha})\n",
    "        genes_ranks_df = pd.DataFrame(genes_ranks_df).sort_values(by=\"Avg. Rank\", ascending=True)\n",
    "\n",
    "        genes_scores_df = []\n",
    "        for k, v in genes_scores.items():\n",
    "            if len(v)<2:\n",
    "                continue\n",
    "            genes_scores_df.append({\"Gene NCBI ID\": k, \"Avg. Score\": np.mean(v), \"Method\": \"Score\", \"Disease\": disease, \"Alpha\": alpha})\n",
    "        genes_scores_df = pd.DataFrame(genes_scores_df).sort_values(by=\"Avg. Score\", ascending=False)\n",
    "        for K in Ks:\n",
    "            metrics = calculate_metrics(genes_ranks_df, K, gene_seeds_ncbi, ncbi_targets, \"Multilayer\", alpha, disease, scoring=\"Avg. Rank\")\n",
    "            results.append(metrics)\n",
    "            metrics = calculate_metrics(genes_scores_df, K, gene_seeds_ncbi, ncbi_targets, \"Multilayer\", alpha, disease, scoring=\"Avg. Score\")\n",
    "            results.append(metrics)\n",
    "\n",
    "                \n",
    "results = pd.concat(results)\n",
    "results"
   ]
  },
  {
   "cell_type": "code",
   "execution_count": null,
   "id": "352ce817-f141-4c6e-a7f7-6d66edb6322e",
   "metadata": {},
   "outputs": [],
   "source": [
    "os.makedirs(\"outputs\", exist_ok=True)\n",
    "results.to_csv(\"outputs/AVG_ensembles_metrics.csv\", index=False)"
   ]
  },
  {
   "cell_type": "code",
   "execution_count": null,
   "id": "d199f4b0-34cd-4be5-ac98-e40a1dae4300",
   "metadata": {},
   "outputs": [],
   "source": []
  }
 ],
 "metadata": {
  "kernelspec": {
   "display_name": "Python 3 (ipykernel)",
   "language": "python",
   "name": "python3"
  },
  "language_info": {
   "codemirror_mode": {
    "name": "ipython",
    "version": 3
   },
   "file_extension": ".py",
   "mimetype": "text/x-python",
   "name": "python",
   "nbconvert_exporter": "python",
   "pygments_lexer": "ipython3",
   "version": "3.10.0"
  }
 },
 "nbformat": 4,
 "nbformat_minor": 5
}
