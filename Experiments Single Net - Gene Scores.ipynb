{
 "cells": [
  {
   "cell_type": "code",
   "execution_count": 1,
   "id": "3825af9b-ff0d-4e98-acad-9aaf41576956",
   "metadata": {},
   "outputs": [],
   "source": [
    "import pandas as pd\n",
    "import numpy as np\n",
    "from tqdm.notebook import tqdm\n",
    "from rwr_functions import *\n",
    "from constants import *\n",
    "import seaborn as sns\n",
    "import matplotlib.pyplot as plt\n",
    "\n",
    "from networkx import pagerank, from_pandas_edgelist"
   ]
  },
  {
   "cell_type": "code",
   "execution_count": 2,
   "id": "fb6cc37f-04c3-4fc5-944f-26abb5949663",
   "metadata": {},
   "outputs": [
    {
     "name": "stdout",
     "output_type": "stream",
     "text": [
      "Loading BioPlex3 graph\n"
     ]
    },
    {
     "data": {
      "application/vnd.jupyter.widget-view+json": {
       "model_id": "9c9dd011a84846059b9a0f2bf3efec9e",
       "version_major": 2,
       "version_minor": 0
      },
      "text/plain": [
       "  0%|          | 0/3 [00:00<?, ?it/s]"
      ]
     },
     "metadata": {},
     "output_type": "display_data"
    },
    {
     "data": {
      "application/vnd.jupyter.widget-view+json": {
       "model_id": "7237a0eac88b4ef28e5b33ffd75a1055",
       "version_major": 2,
       "version_minor": 0
      },
      "text/plain": [
       "  0%|          | 0/100 [00:00<?, ?it/s]"
      ]
     },
     "metadata": {},
     "output_type": "display_data"
    },
    {
     "data": {
      "application/vnd.jupyter.widget-view+json": {
       "model_id": "f137a86fe98b4fb49a60cc1cdc0a72f7",
       "version_major": 2,
       "version_minor": 0
      },
      "text/plain": [
       "  0%|          | 0/100 [00:00<?, ?it/s]"
      ]
     },
     "metadata": {},
     "output_type": "display_data"
    },
    {
     "data": {
      "application/vnd.jupyter.widget-view+json": {
       "model_id": "82b0020e81244b5d96b75047a11d8418",
       "version_major": 2,
       "version_minor": 0
      },
      "text/plain": [
       "  0%|          | 0/100 [00:00<?, ?it/s]"
      ]
     },
     "metadata": {},
     "output_type": "display_data"
    },
    {
     "name": "stdout",
     "output_type": "stream",
     "text": [
      "Loading HumanNet graph\n"
     ]
    },
    {
     "data": {
      "application/vnd.jupyter.widget-view+json": {
       "model_id": "f5685991c4b84de1bb549387ff7c036b",
       "version_major": 2,
       "version_minor": 0
      },
      "text/plain": [
       "  0%|          | 0/3 [00:00<?, ?it/s]"
      ]
     },
     "metadata": {},
     "output_type": "display_data"
    },
    {
     "data": {
      "application/vnd.jupyter.widget-view+json": {
       "model_id": "fac987992a7d443b8e4f19515979cbb3",
       "version_major": 2,
       "version_minor": 0
      },
      "text/plain": [
       "  0%|          | 0/100 [00:00<?, ?it/s]"
      ]
     },
     "metadata": {},
     "output_type": "display_data"
    },
    {
     "name": "stderr",
     "output_type": "stream",
     "text": [
      "\n",
      "KeyboardInterrupt\n",
      "\n"
     ]
    }
   ],
   "source": [
    "results = []\n",
    "results_ratio = []\n",
    "for netname in NETWORKS:\n",
    "    graph = load_graph_nx(netname)\n",
    "    \n",
    "    for disease in tqdm(DISEASES):\n",
    "        pegasus_data = load_pegasus_results(disease)\n",
    "        pagerank_seeds = init_rwr_scores_nx(graph, pegasus_data)\n",
    "        gene_seeds_ncbi, ncbi_targets = load_seeds_and_targets(disease)\n",
    "        \n",
    "        ncbi_targets = list(set(ncbi_targets))\n",
    "        for alpha in tqdm(ALPHAS):\n",
    "            rwr_scores = perform_rwr_nx(alpha, graph, pagerank_seeds)\n",
    "            rwr_results = process_rwr_results_nx(rwr_scores, graph, pegasus_data, pagerank_seeds) \n",
    "            \n",
    "            for K in Ks:\n",
    "                metrics = calculate_metrics(rwr_results, K, gene_seeds_ncbi, ncbi_targets, netname, alpha, disease)\n",
    "                results.append(metrics)\n",
    "                \n",
    "results = pd.concat(results)\n",
    "results"
   ]
  },
  {
   "cell_type": "code",
   "execution_count": 4,
   "id": "24678eab-c50a-4ac4-924f-f30fa3c0eef3",
   "metadata": {},
   "outputs": [],
   "source": [
    "os.makedirs(\"outputs\", exist_ok=True)\n",
    "results.to_csv(\"outputs/gene_scores_single_net_metrics.csv\", index=False)"
   ]
  },
  {
   "cell_type": "code",
   "execution_count": null,
   "id": "0c191f84-83e0-4cf9-a55a-bff1927746bd",
   "metadata": {},
   "outputs": [],
   "source": []
  }
 ],
 "metadata": {
  "kernelspec": {
   "display_name": "Python 3 (ipykernel)",
   "language": "python",
   "name": "python3"
  },
  "language_info": {
   "codemirror_mode": {
    "name": "ipython",
    "version": 3
   },
   "file_extension": ".py",
   "mimetype": "text/x-python",
   "name": "python",
   "nbconvert_exporter": "python",
   "pygments_lexer": "ipython3",
   "version": "3.10.0"
  }
 },
 "nbformat": 4,
 "nbformat_minor": 5
}
