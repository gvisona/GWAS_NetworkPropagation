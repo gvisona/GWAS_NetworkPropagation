{
 "cells": [
  {
   "cell_type": "code",
   "execution_count": null,
   "metadata": {},
   "outputs": [],
   "source": [
    "import pandas as pd\n",
    "import os\n",
    "import mygene\n",
    "import json\n",
    "from tqdm.notebook import tqdm"
   ]
  },
  {
   "cell_type": "code",
   "execution_count": null,
   "metadata": {},
   "outputs": [],
   "source": [
    "PVAL_THRESHOLD = 5e-8\n",
    "mg = mygene.MyGeneInfo()"
   ]
  },
  {
   "cell_type": "markdown",
   "metadata": {},
   "source": [
    "# Asthma"
   ]
  },
  {
   "cell_type": "code",
   "execution_count": null,
   "metadata": {},
   "outputs": [],
   "source": [
    "asthma_targets = pd.read_csv(\"data/GWAS_catalog_26-01/efotraits_MONDO_0004979-associations-2023-01-26_asthma.csv\")\n",
    "asthma_targets[\"P-value\"] = asthma_targets[\"P-value\"].str.replace(\" x 10\", \"e\").astype(float)\n",
    "asthma_targets = asthma_targets[asthma_targets[\"P-value\"]<=PVAL_THRESHOLD]\n",
    "asthma_targets"
   ]
  },
  {
   "cell_type": "code",
   "execution_count": null,
   "metadata": {},
   "outputs": [],
   "source": [
    "asthma_genes = set()\n",
    "for i, row in asthma_targets.iterrows():\n",
    "    gns = row[\"Mapped gene\"].split(\", \")\n",
    "    for gn in gns:\n",
    "        asthma_genes.add(gn)\n",
    "asthma_genes = sorted(list(asthma_genes))"
   ]
  },
  {
   "cell_type": "code",
   "execution_count": null,
   "metadata": {},
   "outputs": [],
   "source": [
    "gene_mapping = mg.querymany(asthma_genes, scopes=[\"symbol\", \"alias\"], species=\"human\", returnall=True)\n",
    "gene_mapping[\"out\"][:3]"
   ]
  },
  {
   "cell_type": "code",
   "execution_count": null,
   "metadata": {},
   "outputs": [],
   "source": [
    "ncbi_ids = []\n",
    "gene2ncbi = {}\n",
    "for gn in tqdm(asthma_genes):\n",
    "    res = [e for e in gene_mapping[\"out\"] if e[\"query\"]==gn]\n",
    "    res = [r for r in res if \"_score\" in r.keys() and \"entrezgene\" in r.keys()]\n",
    "    if len(res)<1:\n",
    "        continue\n",
    "        \n",
    "    res = sorted(res, key=lambda x: x[\"_score\"], reverse=True)\n",
    "    tmp_res = [r for r in res if gn==r[\"symbol\"]]\n",
    "    if len(tmp_res)>0:\n",
    "        res = tmp_res\n",
    "    ncbi_ids.append(res[0][\"entrezgene\"])\n",
    "    gene2ncbi[gn] = res[0][\"entrezgene\"]\n",
    "len(ncbi_ids)"
   ]
  },
  {
   "cell_type": "code",
   "execution_count": null,
   "metadata": {},
   "outputs": [],
   "source": [
    "with open(\"processed_data/gwas_catalog_targets/asthma_targets_ncbi_gwas_catalog.json\", \"w\") as f:\n",
    "    json.dump(ncbi_ids, f)\n",
    "with open(\"processed_data/gwas_catalog_targets/asthma_targets_gene2ncbi.json\", \"w\") as f:\n",
    "    json.dump(gene2ncbi, f, indent=2)"
   ]
  },
  {
   "cell_type": "markdown",
   "metadata": {},
   "source": [
    "# Autism"
   ]
  },
  {
   "cell_type": "code",
   "execution_count": null,
   "metadata": {},
   "outputs": [],
   "source": [
    "autism_targets = pd.read_csv(\"data/GWAS_catalog_26-01/efotraits_EFO_0003756-associations-2023-01-26_asd.csv\")\n",
    "autism_targets[\"P-value\"] = autism_targets[\"P-value\"].str.replace(\" x 10\", \"e\").astype(float)\n",
    "autism_targets = autism_targets[autism_targets[\"P-value\"]<=PVAL_THRESHOLD]\n",
    "autism_targets"
   ]
  },
  {
   "cell_type": "code",
   "execution_count": null,
   "metadata": {},
   "outputs": [],
   "source": [
    "autism_genes = set()\n",
    "for i, row in autism_targets.iterrows():\n",
    "    gns = row[\"Mapped gene\"].split(\", \")\n",
    "    for gn in gns:\n",
    "        autism_genes.add(gn)\n",
    "\n",
    "autism_genes = sorted(list(autism_genes))"
   ]
  },
  {
   "cell_type": "code",
   "execution_count": null,
   "metadata": {},
   "outputs": [],
   "source": [
    "gene_mapping = mg.querymany(autism_genes, scopes=[\"symbol\", \"alias\"], species=\"human\", returnall=True)\n",
    "gene_mapping[\"out\"][:3]"
   ]
  },
  {
   "cell_type": "code",
   "execution_count": null,
   "metadata": {},
   "outputs": [],
   "source": [
    "ncbi_ids = []\n",
    "gene2ncbi = {}\n",
    "for gn in tqdm(autism_genes):\n",
    "    res = [e for e in gene_mapping[\"out\"] if e[\"query\"]==gn]\n",
    "    res = [r for r in res if \"_score\" in r.keys() and \"entrezgene\" in r.keys()]\n",
    "    if len(res)<1:\n",
    "        continue\n",
    "        \n",
    "    res = sorted(res, key=lambda x: x[\"_score\"], reverse=True)\n",
    "    tmp_res = [r for r in res if gn==r[\"symbol\"]]\n",
    "    if len(tmp_res)>0:\n",
    "        res = tmp_res\n",
    "    ncbi_ids.append(res[0][\"entrezgene\"])\n",
    "    gene2ncbi[gn] = res[0][\"entrezgene\"]\n",
    "len(ncbi_ids)"
   ]
  },
  {
   "cell_type": "code",
   "execution_count": null,
   "metadata": {},
   "outputs": [],
   "source": [
    "with open(\"processed_data/gwas_catalog_targets/autism_targets_ncbi_gwas_catalog.json\", \"w\") as f:\n",
    "    json.dump(ncbi_ids, f)\n",
    "with open(\"processed_data/gwas_catalog_targets/autism_targets_gene2ncbi.json\", \"w\") as f:\n",
    "    json.dump(gene2ncbi, f, indent=2)"
   ]
  },
  {
   "cell_type": "markdown",
   "metadata": {},
   "source": [
    "# Schizophrenia"
   ]
  },
  {
   "cell_type": "code",
   "execution_count": null,
   "metadata": {},
   "outputs": [],
   "source": [
    "sch_targets = pd.read_csv(\"data/GWAS_catalog_26-01/efotraits_MONDO_0005090-associations-2023-01-26_schizophrenia.csv\")\n",
    "sch_targets[\"P-value\"] = sch_targets[\"P-value\"].str.replace(\" x 10\", \"e\").astype(float)\n",
    "sch_targets = sch_targets[sch_targets[\"P-value\"]<=PVAL_THRESHOLD]\n",
    "sch_targets"
   ]
  },
  {
   "cell_type": "code",
   "execution_count": null,
   "metadata": {},
   "outputs": [],
   "source": [
    "sch_genes = set()\n",
    "for i, row in sch_targets.iterrows():\n",
    "    gns = row[\"Mapped gene\"].split(\", \")\n",
    "    for gn in gns:\n",
    "        sch_genes.add(gn)\n",
    "\n",
    "sch_genes = sorted(list(sch_genes))"
   ]
  },
  {
   "cell_type": "code",
   "execution_count": null,
   "metadata": {},
   "outputs": [],
   "source": [
    "gene_mapping = mg.querymany(sch_genes, scopes=[\"symbol\", \"alias\"], species=\"human\", returnall=True)\n",
    "gene_mapping[\"out\"][:3]"
   ]
  },
  {
   "cell_type": "code",
   "execution_count": null,
   "metadata": {},
   "outputs": [],
   "source": [
    "ncbi_ids = []\n",
    "gene2ncbi = {}\n",
    "for gn in tqdm(sch_genes):\n",
    "    res = [e for e in gene_mapping[\"out\"] if e[\"query\"]==gn]\n",
    "    res = [r for r in res if \"_score\" in r.keys() and \"entrezgene\" in r.keys()]\n",
    "    if len(res)<1:\n",
    "        continue\n",
    "\n",
    "    res = sorted(res, key=lambda x: x[\"_score\"], reverse=True)\n",
    "    tmp_res = [r for r in res if gn==r[\"symbol\"]]\n",
    "    if len(tmp_res)>0:\n",
    "        res = tmp_res\n",
    "    ncbi_ids.append(res[0][\"entrezgene\"])\n",
    "    gene2ncbi[gn] = res[0][\"entrezgene\"]\n",
    "len(ncbi_ids)"
   ]
  },
  {
   "cell_type": "code",
   "execution_count": null,
   "metadata": {},
   "outputs": [],
   "source": [
    "with open(\"processed_data/gwas_catalog_targets/schizophrenia_targets_ncbi_gwas_catalog.json\", \"w\") as f:\n",
    "    json.dump(ncbi_ids, f)\n",
    "with open(\"processed_data/gwas_catalog_targets/schizophrenia_targets_gene2ncbi.json\", \"w\") as f:\n",
    "    json.dump(gene2ncbi, f, indent=2)"
   ]
  },
  {
   "cell_type": "code",
   "execution_count": null,
   "metadata": {},
   "outputs": [],
   "source": []
  }
 ],
 "metadata": {
  "kernelspec": {
   "display_name": "Python 3 (ipykernel)",
   "language": "python",
   "name": "python3"
  },
  "language_info": {
   "codemirror_mode": {
    "name": "ipython",
    "version": 3
   },
   "file_extension": ".py",
   "mimetype": "text/x-python",
   "name": "python",
   "nbconvert_exporter": "python",
   "pygments_lexer": "ipython3",
   "version": "3.10.0"
  }
 },
 "nbformat": 4,
 "nbformat_minor": 4
}
