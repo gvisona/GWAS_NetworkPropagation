{
 "cells": [
  {
   "cell_type": "code",
   "execution_count": null,
   "id": "4151a158-95fd-49a6-a268-4f0f343aa9b9",
   "metadata": {},
   "outputs": [],
   "source": [
    "import pandas as pd\n",
    "import numpy as np\n",
    "from tqdm.notebook import tqdm\n",
    "from rwr_functions import *\n",
    "from constants import *\n",
    "import seaborn as sns\n",
    "import matplotlib.pyplot as plt\n"
   ]
  },
  {
   "cell_type": "code",
   "execution_count": null,
   "id": "ef2d1cad-0d6d-4861-901c-6c5aea6c9f10",
   "metadata": {},
   "outputs": [],
   "source": [
    "results = []\n",
    "for netname in NETWORKS:\n",
    "    graph = load_graph_nx(netname)\n",
    "    \n",
    "    \n",
    "    for disease in tqdm(DISEASES):\n",
    "        pegasus_data = load_pegasus_results(disease)\n",
    "        \n",
    "        gene_seeds_ncbi, ncbi_targets = load_seeds_and_targets(disease)\n",
    "        ncbi_targets = list(set(ncbi_targets))\n",
    "\n",
    "        score_mapping = {g: 1.0 if g in gene_seeds_ncbi else 0.0 for g in pegasus_data[\"NCBI_id\"]}\n",
    "        pegasus_data.loc[:, \"Score\"] = pegasus_data[\"NCBI_id\"].map(score_mapping)\n",
    "        pagerank_seeds = init_rwr_scores_nx(graph, pegasus_data)\n",
    "\n",
    "        for alpha in tqdm(ALPHAS[1:]):\n",
    "            rwr_scores = perform_rwr_nx(alpha, graph, pagerank_seeds)\n",
    "            rwr_results = process_rwr_results_nx(rwr_scores, graph, pegasus_data, pagerank_seeds) \n",
    "            for K in Ks:\n",
    "                metrics = calculate_metrics(rwr_results, K, gene_seeds_ncbi, ncbi_targets, netname, alpha, disease, scoring=\"Seed\")\n",
    "                results.append(metrics)\n",
    "\n",
    "results = pd.concat(results)\n",
    "results"
   ]
  },
  {
   "cell_type": "code",
   "execution_count": null,
   "id": "2b243899-d64c-49d0-b540-dd4565213397",
   "metadata": {},
   "outputs": [],
   "source": [
    "os.makedirs(\"outputs\", exist_ok=True)\n",
    "results.to_csv(\"outputs/gene_seeds_single_net_metrics.csv\", index=False)"
   ]
  },
  {
   "cell_type": "code",
   "execution_count": null,
   "id": "d39145a8-a67d-4e29-bc1d-e77377b2110f",
   "metadata": {},
   "outputs": [],
   "source": []
  }
 ],
 "metadata": {
  "kernelspec": {
   "display_name": "Python 3 (ipykernel)",
   "language": "python",
   "name": "python3"
  },
  "language_info": {
   "codemirror_mode": {
    "name": "ipython",
    "version": 3
   },
   "file_extension": ".py",
   "mimetype": "text/x-python",
   "name": "python",
   "nbconvert_exporter": "python",
   "pygments_lexer": "ipython3",
   "version": "3.10.0"
  }
 },
 "nbformat": 4,
 "nbformat_minor": 5
}
